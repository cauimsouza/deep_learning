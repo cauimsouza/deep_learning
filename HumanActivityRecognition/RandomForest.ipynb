{
 "cells": [
  {
   "cell_type": "code",
   "execution_count": 1,
   "metadata": {},
   "outputs": [],
   "source": [
    "# Import libraries\n",
    "%matplotlib inline\n",
    "\n",
    "import numpy as np\n",
    "import pandas as pd\n",
    "import matplotlib.pyplot as plt\n",
    "\n",
    "from sklearn.preprocessing import StandardScaler\n",
    "from sklearn.model_selection import train_test_split\n",
    "from sklearn.ensemble import RandomForestClassifier\n",
    "from sklearn.model_selection import cross_val_score\n",
    "from sklearn.metrics import confusion_matrix"
   ]
  },
  {
   "cell_type": "code",
   "execution_count": 2,
   "metadata": {},
   "outputs": [],
   "source": [
    "def add_poly_terms(feat, n_feats=None, max_pot=5):\n",
    "    # This function add polynomial terms up to max_pot power to the first n_feats\n",
    "    # variables to the features' matrix up to the max_pot power\n",
    "    n_samples = feat.shape[0]\n",
    "    if n_feats is None:\n",
    "        n_feats = feat.shape[1]\n",
    "    feat_list = [feat]\n",
    "    for pot in range(2, max_pot+1):\n",
    "        feat_list +=  [np.reshape(feat[:,i]**pot, (n_samples,1)) for i in range(n_feats)]\n",
    "    return np.concatenate(feat_list, axis=1)\n",
    "\n",
    "def add_iter_terms(feat, n_feats=None):\n",
    "    # This function add iteration terms of the first n_feats\n",
    "    # variables to the features' matrix\n",
    "    n_samples = feat.shape[0]\n",
    "    if n_feats is None:\n",
    "        n_feats = feat.shape[1]\n",
    "    feat_list = [feat]\n",
    "    for i in range(n_feats):\n",
    "        for j in range(i+1,n_feats):\n",
    "            feat_list += [np.reshape(feat[:,i]*feat[:,j], (n_samples,1))]\n",
    "    return np.concatenate(feat_list, axis=1)\n",
    "\n",
    "def plot_confusion_matrix(cm, classes,\n",
    "                          title='Confusion matrix',\n",
    "                          cmap=plt.cm.Blues):\n",
    "    \"\"\"\n",
    "    This function prints and plots the confusion matrix.\n",
    "    \"\"\"\n",
    "    import itertools\n",
    "\n",
    "    plt.imshow(cm, interpolation='nearest', cmap=cmap)\n",
    "    plt.title(title)\n",
    "    plt.colorbar()\n",
    "    tick_marks = np.arange(len(classes))\n",
    "    plt.xticks(tick_marks, classes, rotation=45)\n",
    "    plt.yticks(tick_marks, classes)\n",
    "\n",
    "    thresh = cm.max() / 2.\n",
    "    for i, j in itertools.product(range(cm.shape[0]), range(cm.shape[1])):\n",
    "        plt.text(j, i, format(cm[i, j], 'd'),\n",
    "                 horizontalalignment=\"center\",\n",
    "                 color=\"white\" if cm[i, j] > thresh else \"black\")\n",
    "\n",
    "    plt.tight_layout()\n",
    "    plt.ylabel('True label')\n",
    "    plt.xlabel('Predicted label')\n",
    "    \n",
    "def print_rates(cm, classes):\n",
    "    success_rate = []\n",
    "    for i in range(len(cm)):\n",
    "        success_rate.append(cm[i][i] / np.sum(cm[i]))\n",
    "    \n",
    "    x_pos = np.arange(len(classes))\n",
    "    \n",
    "    fig, ax = plt.subplots()    \n",
    "    plt.bar(x_pos, success_rate)\n",
    "    plt.xticks(x_pos, classes, rotation=45)\n",
    "    ax.yaxis.set_visible(False)\n",
    "    ax.axis([-1, 6, 0, 1.1])\n",
    "    plt.title('Success rate for each class')\n",
    "    #plt.ylabel('Success rate')\n",
    "    for i, v in enumerate(success_rate):\n",
    "        ax.text(i, v+0.01, format(success_rate[i], '.2f'),\n",
    "                horizontalalignment=\"center\",\n",
    "                color='black', fontweight='bold')    \n",
    "    plt.show()\n",
    "    \n",
    "# Eliminate NaN entries\n",
    "def remove_nan(X):\n",
    "    col_mean = np.nanmean(X, axis=0)\n",
    "    inds = np.where(np.isnan(X))\n",
    "    X[inds] = np.take(col_mean, inds[1])\n",
    "    \n",
    "def normalize_data(X):\n",
    "    from sklearn.preprocessing import StandardScaler\n",
    "    sc_X = StandardScaler()\n",
    "    return sc_X.fit_transform(X)"
   ]
  },
  {
   "cell_type": "code",
   "execution_count": 3,
   "metadata": {},
   "outputs": [],
   "source": [
    "# read the data set\n",
    "data_set = pd.read_csv('WISDM_ar_v1.1_transformed.csv')\n",
    "X = data_set.iloc[:, 2:-1].values # eliminate not important colums \n",
    "y = data_set.iloc[:,-1].values"
   ]
  },
  {
   "cell_type": "code",
   "execution_count": 4,
   "metadata": {},
   "outputs": [],
   "source": [
    "# Eliminate NaN entries\n",
    "remove_nan(X)"
   ]
  },
  {
   "cell_type": "code",
   "execution_count": 5,
   "metadata": {},
   "outputs": [],
   "source": [
    "# Feature scaling\n",
    "X = normalize_data(X)"
   ]
  },
  {
   "cell_type": "code",
   "execution_count": 6,
   "metadata": {},
   "outputs": [],
   "source": [
    "# Split the dataset into the Training set and the Test set\n",
    "X_train, X_test, y_train, y_test = train_test_split(X, y, test_size=0.10, random_state=0)"
   ]
  },
  {
   "cell_type": "markdown",
   "metadata": {},
   "source": [
    "# Dans ce Notebook on utilisera le classificateur RandomForest\n",
    "# Ce classificateur est capable de améliorer la précision de la classification par raport à un seul classificateur d'arbre de décision au coût d'une perte d'interprétation du modèle"
   ]
  },
  {
   "cell_type": "code",
   "execution_count": 66,
   "metadata": {},
   "outputs": [],
   "source": [
    "# 10-fold CV for determination of the hyperparameter 'min_samples_split'\n",
    "def CV_min_samples_split():\n",
    "    print('Cross validation for min_samples_split parameter selection:')\n",
    "    for min_sample_split in range(2, 10):\n",
    "        clf = RandomForestClassifier(n_estimators=300, max_depth=None,\n",
    "            min_samples_split=min_sample_split, random_state=0)\n",
    "        print('\\tmin_sample_split = %d, acc= %f' %\n",
    "              (min_sample_split, cross_val_score(clf, X_train, y_train, cv=10).mean()))\n",
    "#CV_min_samples_split()\n",
    "# the results showed that the highest CV score happens for min_sample_split = 2\n",
    "# if you want to rerun the CV test uncomment the line above"
   ]
  },
  {
   "cell_type": "code",
   "execution_count": 7,
   "metadata": {},
   "outputs": [
    {
     "name": "stdout",
     "output_type": "stream",
     "text": [
      "RandomForest classifier score on training set (10-fold CV): 0.894813\n"
     ]
    }
   ],
   "source": [
    "# Perform k-fold CV for model assessment\n",
    "# here we are using m = sqrt(p) when splitting a node to buil the tree\n",
    "# and we are using the best result for min_samples_split given by CV executed above\n",
    "# Note: the accuracy stops increasing after a certain number of trees without increasing overfitting\n",
    "# so taking n_estimators very large is just fine (the only disadvantage is higher time to fit)\n",
    "clf = RandomForestClassifier(n_estimators=300, max_depth=None,\n",
    "    min_samples_split=2, random_state=0)\n",
    "scores = cross_val_score(clf, X_train, y_train, cv=10)\n",
    "\n",
    "print('RandomForest classifier score on training set (10-fold CV): %f' % scores.mean())"
   ]
  },
  {
   "cell_type": "markdown",
   "metadata": {},
   "source": [
    "# Nous pouvons voir que ce méthode nous a donné une 'accuracy' plus élevée que celles de LogisticRegression ou SVM "
   ]
  },
  {
   "cell_type": "code",
   "execution_count": 8,
   "metadata": {},
   "outputs": [
    {
     "name": "stdout",
     "output_type": "stream",
     "text": [
      "RandomForest classifier score on test set: 0.889299\n"
     ]
    }
   ],
   "source": [
    "# Fit the classifier on training set and predict results on test set\n",
    "clf.fit(X_train, y_train)\n",
    "y_pred = clf.predict(X_test)\n",
    "\n",
    "print('RandomForest classifier score on test set: %f' % (np.mean(y_pred == y_test,)))"
   ]
  },
  {
   "cell_type": "code",
   "execution_count": 11,
   "metadata": {},
   "outputs": [
    {
     "data": {
      "image/png": "[encoded data removed]",
      "text/plain": [
       "<matplotlib.figure.Figure at 0x7f71444d3b70>"
      ]
     },
     "metadata": {},
     "output_type": "display_data"
    }
   ],
   "source": [
    "cm = confusion_matrix(y_test, y_pred)\n",
    "plot_confusion_matrix(cm, classes=np.unique(y_train))"
   ]
  },
  {
   "cell_type": "markdown",
   "metadata": {},
   "source": [
    "# On peut voir que pour les classes 'Jogging', 'Sitting', 'Standing' et 'Walking' le classificateur a eu un presque parfait résultat\n",
    "# Le classificateur a eu encore du mal a différencier 'Downstairs' et 'Upstairs' de 'Walking', avec beaucoup de false-négatif pour 'Downstairs' et 'Upstairs' et beaucoup de false-positif pour 'Walking' "
   ]
  },
  {
   "cell_type": "code",
   "execution_count": 12,
   "metadata": {},
   "outputs": [
    {
     "data": {
      "image/png": "[encoded data removed]",
      "text/plain": [
       "<matplotlib.figure.Figure at 0x7f71443ae128>"
      ]
     },
     "metadata": {},
     "output_type": "display_data"
    }
   ],
   "source": [
    "print_rates(cm, classes=np.unique(y_train))"
   ]
  },
  {
   "cell_type": "code",
   "execution_count": 13,
   "metadata": {},
   "outputs": [
    {
     "name": "stdout",
     "output_type": "stream",
     "text": [
      "CV score for RF model including polynomial terms: 0.889892\n"
     ]
    }
   ],
   "source": [
    "# Here I expand the data set to include polynomial terms of the predictors and evaluate the result\n",
    "X_extended = data_set.iloc[:, 2:-1].values\n",
    "remove_nan(X_extended)\n",
    "X_extended = add_poly_terms(X_extended, n_feats=43, max_pot=3)\n",
    "X_extended = add_iter_terms(X_extended, n_feats=43)\n",
    "X_extended = normalize_data(X_extended)\n",
    "\n",
    "# Split the dataset into the Training set and the Test set\n",
    "from sklearn.model_selection import train_test_split\n",
    "X_traine, X_teste, y_traine, y_teste = train_test_split(X_extended, y, test_size=0.10, random_state=0)\n",
    "\n",
    "# Perform k-fold CV for model assessment\n",
    "clfe = RandomForestClassifier(n_estimators=300, max_depth=None,\n",
    "    min_samples_split=2, random_state=0)\n",
    "scorese = cross_val_score(clfe, X_traine, y_traine, cv=10)\n",
    "\n",
    "print('CV score for RF model including polynomial terms: %f' % scorese.mean())"
   ]
  },
  {
   "cell_type": "code",
   "execution_count": 14,
   "metadata": {},
   "outputs": [
    {
     "name": "stdout",
     "output_type": "stream",
     "text": [
      "RandomForest classifier score on training set with poly terms (10-fold CV): 0.876384\n"
     ]
    }
   ],
   "source": [
    "clfe.fit(X_traine, y_traine)\n",
    "print('RandomForest classifier score on training set with poly terms (10-fold CV): %f' % clfe.score(X_teste, y_teste))"
   ]
  },
  {
   "cell_type": "markdown",
   "metadata": {},
   "source": [
    "# We can notice that there wasn't an increase in accuracy after\n",
    "# involving polynomial/interaction terms of the original features"
   ]
  },
  {
   "cell_type": "code",
   "execution_count": null,
   "metadata": {},
   "outputs": [],
   "source": []
  }
 ],
 "metadata": {
  "kernelspec": {
   "display_name": "Python 3",
   "language": "python",
   "name": "python3"
  },
  "language_info": {
   "codemirror_mode": {
    "name": "ipython",
    "version": 3
   },
   "file_extension": ".py",
   "mimetype": "text/x-python",
   "name": "python",
   "nbconvert_exporter": "python",
   "pygments_lexer": "ipython3",
   "version": "3.6.3"
  }
 },
 "nbformat": 4,
 "nbformat_minor": 2
}
